{
  "nbformat": 4,
  "nbformat_minor": 0,
  "metadata": {
    "colab": {
      "name": "Python02.ipynb",
      "provenance": [],
      "collapsed_sections": [],
      "authorship_tag": "ABX9TyNM55sATR4NnWTiA6rsVT0L"
    },
    "kernelspec": {
      "name": "python3",
      "display_name": "Python 3"
    },
    "language_info": {
      "name": "python"
    }
  },
  "cells": [
    {
      "cell_type": "code",
      "metadata": {
        "colab": {
          "base_uri": "https://localhost:8080/",
          "height": 190
        },
        "id": "khCX1hOXowWR",
        "outputId": "d9e78d7f-7245-4ef8-df80-6626a87b16a1"
      },
      "source": [
        "x = [1,3,4]\n",
        "x.mean() # 오류 발생 !"
      ],
      "execution_count": 74,
      "outputs": [
        {
          "output_type": "error",
          "ename": "AttributeError",
          "evalue": "ignored",
          "traceback": [
            "\u001b[0;31m---------------------------------------------------------------------------\u001b[0m",
            "\u001b[0;31mAttributeError\u001b[0m                            Traceback (most recent call last)",
            "\u001b[0;32m<ipython-input-74-2a784c1e6200>\u001b[0m in \u001b[0;36m<module>\u001b[0;34m()\u001b[0m\n\u001b[1;32m      1\u001b[0m \u001b[0mx\u001b[0m \u001b[0;34m=\u001b[0m \u001b[0;34m[\u001b[0m\u001b[0;36m1\u001b[0m\u001b[0;34m,\u001b[0m\u001b[0;36m3\u001b[0m\u001b[0;34m,\u001b[0m\u001b[0;36m4\u001b[0m\u001b[0;34m]\u001b[0m\u001b[0;34m\u001b[0m\u001b[0;34m\u001b[0m\u001b[0m\n\u001b[0;32m----> 2\u001b[0;31m \u001b[0mx\u001b[0m\u001b[0;34m.\u001b[0m\u001b[0mmean\u001b[0m\u001b[0;34m(\u001b[0m\u001b[0;34m)\u001b[0m \u001b[0;31m# 오류 발생 !\u001b[0m\u001b[0;34m\u001b[0m\u001b[0;34m\u001b[0m\u001b[0m\n\u001b[0m",
            "\u001b[0;31mAttributeError\u001b[0m: 'list' object has no attribute 'mean'"
          ]
        }
      ]
    },
    {
      "cell_type": "code",
      "metadata": {
        "colab": {
          "base_uri": "https://localhost:8080/"
        },
        "id": "pCEjHUCfo7ZB",
        "outputId": "d590c851-4f05-436f-be16-cd8f3102a133"
      },
      "source": [
        "import numpy as np\n",
        "x = np.array([1,3,5])\n",
        "print(x.mean()) # 평균값"
      ],
      "execution_count": 75,
      "outputs": [
        {
          "output_type": "stream",
          "text": [
            "3.0\n"
          ],
          "name": "stdout"
        }
      ]
    },
    {
      "cell_type": "code",
      "metadata": {
        "colab": {
          "base_uri": "https://localhost:8080/"
        },
        "id": "XBNzitcjpUcq",
        "outputId": "415805fb-97e4-440b-e54c-43007f69eb99"
      },
      "source": [
        "print(x.shape) # 3개의 원소가 있는 1차원 배열열"
      ],
      "execution_count": 76,
      "outputs": [
        {
          "output_type": "stream",
          "text": [
            "(3,)\n"
          ],
          "name": "stdout"
        }
      ]
    },
    {
      "cell_type": "code",
      "metadata": {
        "colab": {
          "base_uri": "https://localhost:8080/"
        },
        "id": "zx5j0tqCpbHa",
        "outputId": "435fb252-06f3-4e74-8458-e851d53db080"
      },
      "source": [
        "# 퀴즈 9.1\n",
        "a = np.array([[1, 2, 3],[2, 3, 4]]) # 각각 3개의 원소로 구성된 2개의 원소를 가진 numpy 배열 a\n",
        "print(a.shape) # 배열의 정보를 다음과 같이 출력 - 2x3 배열열 퀴즈 9.1\n",
        "a = np.array([[1, 2, 3],[2, 3, 4]]) # 각각 3개의 원소로 구성된 2개의 원소를 가진 numpy 배열 a\n",
        "print(a.shape) # 배열의 정보를 다음과 같이 출력 - 2x3 배열열"
      ],
      "execution_count": 77,
      "outputs": [
        {
          "output_type": "stream",
          "text": [
            "(2, 3)\n",
            "(2, 3)\n"
          ],
          "name": "stdout"
        }
      ]
    },
    {
      "cell_type": "code",
      "metadata": {
        "colab": {
          "base_uri": "https://localhost:8080/"
        },
        "id": "am-k0QhzqDaN",
        "outputId": "1637ea78-cf44-4ccb-b084-9b465383fe2c"
      },
      "source": [
        "# array() , reshape()\n",
        "x = np.array([1,3,5,7,9,11]).reshape(3,2) # 1,3,5,7,9,11 array를 3x2 배열로 변환\n",
        "print(x)"
      ],
      "execution_count": 78,
      "outputs": [
        {
          "output_type": "stream",
          "text": [
            "[[ 1  3]\n",
            " [ 5  7]\n",
            " [ 9 11]]\n"
          ],
          "name": "stdout"
        }
      ]
    },
    {
      "cell_type": "code",
      "metadata": {
        "colab": {
          "base_uri": "https://localhost:8080/"
        },
        "id": "sEMG5Z6crzOp",
        "outputId": "48b2032c-fec1-426e-aab4-e77bbdbee582"
      },
      "source": [
        "# ones() : 1로 이루어진 배열을 생성\n",
        "y = np.ones([3,4])\n",
        "print(y) "
      ],
      "execution_count": 79,
      "outputs": [
        {
          "output_type": "stream",
          "text": [
            "[[1. 1. 1. 1.]\n",
            " [1. 1. 1. 1.]\n",
            " [1. 1. 1. 1.]]\n"
          ],
          "name": "stdout"
        }
      ]
    },
    {
      "cell_type": "code",
      "metadata": {
        "colab": {
          "base_uri": "https://localhost:8080/"
        },
        "id": "iPg-nFv9ukdH",
        "outputId": "471f9fb7-d68f-49f1-a234-c65b773d5d18"
      },
      "source": [
        "x = np.array([[1,3,5], [2,4,6]])\n",
        "print(x[1])\n",
        "print(x[1].mean())\n",
        "print(x.mean())\n",
        "print(x.shape)"
      ],
      "execution_count": 80,
      "outputs": [
        {
          "output_type": "stream",
          "text": [
            "[2 4 6]\n",
            "4.0\n",
            "3.5\n",
            "(2, 3)\n"
          ],
          "name": "stdout"
        }
      ]
    },
    {
      "cell_type": "code",
      "metadata": {
        "colab": {
          "base_uri": "https://localhost:8080/"
        },
        "id": "XlcDNV_MvFS8",
        "outputId": "4e6ff290-574f-40b1-9be0-b6b2ad6515d7"
      },
      "source": [
        "# 퀴즈 9.2\n",
        "list1 = [[1,11], [2,12], [3,13]]\n",
        "print(list1[1][1])"
      ],
      "execution_count": 81,
      "outputs": [
        {
          "output_type": "stream",
          "text": [
            "12\n"
          ],
          "name": "stdout"
        }
      ]
    },
    {
      "cell_type": "code",
      "metadata": {
        "colab": {
          "base_uri": "https://localhost:8080/"
        },
        "id": "ntmrwiaAv7eo",
        "outputId": "8d499d4e-4a3a-42d3-f31f-4a1642c6c6eb"
      },
      "source": [
        "# 모든 원소에 대한 두 번째 항목 읽어오기 모든 원소에 대한 두 번째 항목 읽어오기\n",
        "list1 = [[1,11], [2,12], [3,13]]\n",
        "np_ary = np.array(list1)\n",
        "print(np_ary[:,1])"
      ],
      "execution_count": 82,
      "outputs": [
        {
          "output_type": "stream",
          "text": [
            "[11 12 13]\n"
          ],
          "name": "stdout"
        }
      ]
    },
    {
      "cell_type": "code",
      "metadata": {
        "colab": {
          "base_uri": "https://localhost:8080/"
        },
        "id": "7nj9dou2z6XY",
        "outputId": "af8b53da-76ed-491a-d8ae-ca507d761a5d"
      },
      "source": [
        "list1 = [[1,11],[2,12],[3,13]]\n",
        "print(np.array(list1[:][0]))"
      ],
      "execution_count": 83,
      "outputs": [
        {
          "output_type": "stream",
          "text": [
            "[ 1 11]\n"
          ],
          "name": "stdout"
        }
      ]
    },
    {
      "cell_type": "code",
      "metadata": {
        "colab": {
          "base_uri": "https://localhost:8080/"
        },
        "id": "3n7vUTF0yVdp",
        "outputId": "32cf5567-da55-4ee1-c59c-c3f3e8057f11"
      },
      "source": [
        "import math\n",
        "math.sqrt(2)"
      ],
      "execution_count": 84,
      "outputs": [
        {
          "output_type": "execute_result",
          "data": {
            "text/plain": [
              "1.4142135623730951"
            ]
          },
          "metadata": {
            "tags": []
          },
          "execution_count": 84
        }
      ]
    },
    {
      "cell_type": "code",
      "metadata": {
        "colab": {
          "base_uri": "https://localhost:8080/"
        },
        "id": "A-nZIwX6x5mv",
        "outputId": "7f52c17c-ebfb-41f2-8e29-62d16a649987"
      },
      "source": [
        "# math.sqrt([2,3,4]) 안됨!\n",
        "np.sqrt([2,3,4])"
      ],
      "execution_count": 85,
      "outputs": [
        {
          "output_type": "execute_result",
          "data": {
            "text/plain": [
              "array([1.41421356, 1.73205081, 2.        ])"
            ]
          },
          "metadata": {
            "tags": []
          },
          "execution_count": 85
        }
      ]
    },
    {
      "cell_type": "code",
      "metadata": {
        "colab": {
          "base_uri": "https://localhost:8080/"
        },
        "id": "jyMpuTodyg9y",
        "outputId": "5961fea6-1327-4d85-ecea-3acb00043f6e"
      },
      "source": [
        "a = np.arange(15)  # 0~14까지의 정수를 가진 일차원 배열\n",
        "b = a.reshape(3,5) # 일차원 배열을 이차원 배열로 재구성\n",
        "print(a)\n",
        "print(b)"
      ],
      "execution_count": 86,
      "outputs": [
        {
          "output_type": "stream",
          "text": [
            "[ 0  1  2  3  4  5  6  7  8  9 10 11 12 13 14]\n",
            "[[ 0  1  2  3  4]\n",
            " [ 5  6  7  8  9]\n",
            " [10 11 12 13 14]]\n"
          ],
          "name": "stdout"
        }
      ]
    },
    {
      "cell_type": "code",
      "metadata": {
        "colab": {
          "base_uri": "https://localhost:8080/"
        },
        "id": "JzpAt5JNzNZJ",
        "outputId": "981c6c11-3556-429a-b6e1-35657bf13ac3"
      },
      "source": [
        "# 퀴즈 9.4\n",
        "a = np.arange(15).reshape(3,5)\n",
        "print(a[1][1])"
      ],
      "execution_count": 87,
      "outputs": [
        {
          "output_type": "stream",
          "text": [
            "6\n"
          ],
          "name": "stdout"
        }
      ]
    },
    {
      "cell_type": "code",
      "metadata": {
        "colab": {
          "base_uri": "https://localhost:8080/"
        },
        "id": "GjqQ2K-hzxXo",
        "outputId": "836ffa66-7eab-4780-cd23-89836b3059ff"
      },
      "source": [
        "# 1차원 배열\n",
        "zero_vector = np.zeros(3)\n",
        "print(zero_vector)"
      ],
      "execution_count": 88,
      "outputs": [
        {
          "output_type": "stream",
          "text": [
            "[0. 0. 0.]\n"
          ],
          "name": "stdout"
        }
      ]
    },
    {
      "cell_type": "code",
      "metadata": {
        "colab": {
          "base_uri": "https://localhost:8080/"
        },
        "id": "K7aOnpr21M8f",
        "outputId": "62996b66-0014-4d5a-cf62-c9b91b2fb62b"
      },
      "source": [
        "# 2차원 배열 2차원 배열\n",
        "zero_matrix = np.zeros((4,3))\n",
        "print(zero_matrix)"
      ],
      "execution_count": 89,
      "outputs": [
        {
          "output_type": "stream",
          "text": [
            "[[0. 0. 0.]\n",
            " [0. 0. 0.]\n",
            " [0. 0. 0.]\n",
            " [0. 0. 0.]]\n"
          ],
          "name": "stdout"
        }
      ]
    },
    {
      "cell_type": "code",
      "metadata": {
        "colab": {
          "base_uri": "https://localhost:8080/"
        },
        "id": "-kMtYQZI1h0R",
        "outputId": "86936af4-4c1a-4c45-db66-56d04c61221e"
      },
      "source": [
        "zero_vector = np.zeros(5)\n",
        "zero_vector # 일차원 array 자체 출력"
      ],
      "execution_count": 90,
      "outputs": [
        {
          "output_type": "execute_result",
          "data": {
            "text/plain": [
              "array([0., 0., 0., 0., 0.])"
            ]
          },
          "metadata": {
            "tags": []
          },
          "execution_count": 90
        }
      ]
    },
    {
      "cell_type": "code",
      "metadata": {
        "colab": {
          "base_uri": "https://localhost:8080/"
        },
        "id": "pBTIT1hL13cl",
        "outputId": "b6015149-c20f-4126-a394-4d12c821c0a2"
      },
      "source": [
        "zero_matrix = np.zeros((5,3))\n",
        "zero_matrix # 이차원 array 자체 출력"
      ],
      "execution_count": 91,
      "outputs": [
        {
          "output_type": "execute_result",
          "data": {
            "text/plain": [
              "array([[0., 0., 0.],\n",
              "       [0., 0., 0.],\n",
              "       [0., 0., 0.],\n",
              "       [0., 0., 0.],\n",
              "       [0., 0., 0.]])"
            ]
          },
          "metadata": {
            "tags": []
          },
          "execution_count": 91
        }
      ]
    },
    {
      "cell_type": "code",
      "metadata": {
        "colab": {
          "base_uri": "https://localhost:8080/"
        },
        "id": "V7zPskIA2Ehl",
        "outputId": "9e0bb1d8-bd7f-445a-e5f8-cf07f8e7bd08"
      },
      "source": [
        "my_array = np.zeros(15).reshape(3,5)\n",
        "my_array += 4 # 모든 항목에 4를 더해줌\n",
        "my_array"
      ],
      "execution_count": 92,
      "outputs": [
        {
          "output_type": "execute_result",
          "data": {
            "text/plain": [
              "array([[4., 4., 4., 4., 4.],\n",
              "       [4., 4., 4., 4., 4.],\n",
              "       [4., 4., 4., 4., 4.]])"
            ]
          },
          "metadata": {
            "tags": []
          },
          "execution_count": 92
        }
      ]
    },
    {
      "cell_type": "code",
      "metadata": {
        "colab": {
          "base_uri": "https://localhost:8080/"
        },
        "id": "tsBD-KiB22kL",
        "outputId": "68ef2b00-d164-4225-d4e2-bdfc00ac0bb8"
      },
      "source": [
        "# 전치행렬 - transpose()\n",
        "ary = np.array([[1,2],[3,4]]) # [[1 2] [3 4]]\n",
        "print(ary.transpose())"
      ],
      "execution_count": 93,
      "outputs": [
        {
          "output_type": "stream",
          "text": [
            "[[1 3]\n",
            " [2 4]]\n"
          ],
          "name": "stdout"
        }
      ]
    },
    {
      "cell_type": "code",
      "metadata": {
        "colab": {
          "base_uri": "https://localhost:8080/"
        },
        "id": "kC5M0wgI4Lu4",
        "outputId": "3b232a21-d3d4-4190-cbdb-496c595ad033"
      },
      "source": [
        "# 퀴즈 9.5\n",
        "x = [1, 2, 3]\n",
        "y = [4, 5, 6]\n",
        "z = x + y\n",
        "print(z)"
      ],
      "execution_count": 94,
      "outputs": [
        {
          "output_type": "stream",
          "text": [
            "[1, 2, 3, 4, 5, 6]\n"
          ],
          "name": "stdout"
        }
      ]
    },
    {
      "cell_type": "code",
      "metadata": {
        "colab": {
          "base_uri": "https://localhost:8080/"
        },
        "id": "yCYXI8gv4Lhl",
        "outputId": "7808b394-1163-4bbc-d960-2ad8ace06d94"
      },
      "source": [
        "# 퀴즈 9.6\n",
        "x = np.array([1,2,3])\n",
        "y = np.array([4,5,6])\n",
        "z = x + y\n",
        "print(z)"
      ],
      "execution_count": 95,
      "outputs": [
        {
          "output_type": "stream",
          "text": [
            "[5 7 9]\n"
          ],
          "name": "stdout"
        }
      ]
    },
    {
      "cell_type": "code",
      "metadata": {
        "colab": {
          "base_uri": "https://localhost:8080/"
        },
        "id": "9SKs6ikQ3OHh",
        "outputId": "b042fee8-7266-4a36-efaa-efe7091f9c0b"
      },
      "source": [
        "x = np.array([1,2,3])\n",
        "y = np.array([4,5,6])\n",
        "z = x * y\n",
        "print(z)"
      ],
      "execution_count": 96,
      "outputs": [
        {
          "output_type": "stream",
          "text": [
            "[ 4 10 18]\n"
          ],
          "name": "stdout"
        }
      ]
    },
    {
      "cell_type": "code",
      "metadata": {
        "colab": {
          "base_uri": "https://localhost:8080/"
        },
        "id": "hI6vYfoo31p2",
        "outputId": "fe5b2bba-280a-4fd1-c076-73a3272384e1"
      },
      "source": [
        "# s = [1,2,3] - error!\n",
        "s = np.array([1,2,3])\n",
        "t = s + 1\n",
        "print(t)"
      ],
      "execution_count": 97,
      "outputs": [
        {
          "output_type": "stream",
          "text": [
            "[2 3 4]\n"
          ],
          "name": "stdout"
        }
      ]
    },
    {
      "cell_type": "code",
      "metadata": {
        "colab": {
          "base_uri": "https://localhost:8080/"
        },
        "id": "W6OfRXj14I6I",
        "outputId": "e326908d-924c-46b1-f617-a96e7a67d967"
      },
      "source": [
        "# 퀴즈 9.7\n",
        "x = np.array([4,8,12])\n",
        "y = np.array([2,4,6])\n",
        "z = x / y # //를 사용하면 [2 2 2]가 출력될 것이다.\n",
        "print(z)"
      ],
      "execution_count": 98,
      "outputs": [
        {
          "output_type": "stream",
          "text": [
            "[2. 2. 2.]\n"
          ],
          "name": "stdout"
        }
      ]
    },
    {
      "cell_type": "code",
      "metadata": {
        "id": "OoLRqNkf5gnj",
        "colab": {
          "base_uri": "https://localhost:8080/"
        },
        "outputId": "9ebee097-0e3f-4ef8-96b8-67c1422d2964"
      },
      "source": [
        "# 인덱싱\n",
        "x = np.array([[1,2,3],[4,5,6],[7,8,9]])\n",
        "print(x[1])\n",
        "print(x[:, 1])"
      ],
      "execution_count": 99,
      "outputs": [
        {
          "output_type": "stream",
          "text": [
            "[4 5 6]\n",
            "[2 5 8]\n"
          ],
          "name": "stdout"
        }
      ]
    },
    {
      "cell_type": "code",
      "metadata": {
        "colab": {
          "base_uri": "https://localhost:8080/"
        },
        "id": "1cvR3ruNK0KU",
        "outputId": "39062783-7993-4d3e-9ffd-c4cf249508fd"
      },
      "source": [
        "x = np.array([[1,2,3], [4,5,6],[7,8,9]])\n",
        "y = np.array([[2,3,4],[5,6,7],[8,9,10]])\n",
        "print(x[:,1]+y[:,1])"
      ],
      "execution_count": 100,
      "outputs": [
        {
          "output_type": "stream",
          "text": [
            "[ 5 11 17]\n"
          ],
          "name": "stdout"
        }
      ]
    },
    {
      "cell_type": "code",
      "metadata": {
        "colab": {
          "base_uri": "https://localhost:8080/"
        },
        "id": "c9JcIP4pLBUZ",
        "outputId": "fe830ddf-0875-4624-f65c-08aad0ff95d0"
      },
      "source": [
        "a = np.array([10,20,30,40,50,60,70])\n",
        "# b = [10,20,30,40,50,60,70] \n",
        "i = [1,3,5]\n",
        "print(a[i])\n",
        "# print(b[i]) - error"
      ],
      "execution_count": 101,
      "outputs": [
        {
          "output_type": "stream",
          "text": [
            "[20 40 60]\n"
          ],
          "name": "stdout"
        }
      ]
    },
    {
      "cell_type": "code",
      "metadata": {
        "colab": {
          "base_uri": "https://localhost:8080/"
        },
        "id": "4SGFrsm4L0yG",
        "outputId": "ac64e674-879f-44e7-c4cf-6ffbba1535b7"
      },
      "source": [
        "# 퀴즈 9.8\n",
        "a = np.array([10,20,30,40,50,60,70])\n",
        "b = a[1:6:2] # b는 a의 동일한 부분을 가리킴\n",
        "print('b:',b) \n",
        "b[1] = 10\n",
        "print('b:',b)\n",
        "print('a:',a)"
      ],
      "execution_count": 102,
      "outputs": [
        {
          "output_type": "stream",
          "text": [
            "b: [20 40 60]\n",
            "b: [20 10 60]\n",
            "a: [10 20 30 10 50 60 70]\n"
          ],
          "name": "stdout"
        }
      ]
    },
    {
      "cell_type": "code",
      "metadata": {
        "colab": {
          "base_uri": "https://localhost:8080/"
        },
        "id": "bnxjS5JzVhC_",
        "outputId": "70fa34ec-f8ad-423d-962e-36d535a41d30"
      },
      "source": [
        "a = np.array([10,20,30,40,50,60,70])\n",
        "b = np.array(a[1:6:2]) # b는 a의 동일한 부분을 가리킴\n",
        "print('b:',b) \n",
        "b[1] = 10\n",
        "print('b:',b)\n",
        "print('a:',a)"
      ],
      "execution_count": 103,
      "outputs": [
        {
          "output_type": "stream",
          "text": [
            "b: [20 40 60]\n",
            "b: [20 10 60]\n",
            "a: [10 20 30 40 50 60 70]\n"
          ],
          "name": "stdout"
        }
      ]
    },
    {
      "cell_type": "code",
      "metadata": {
        "colab": {
          "base_uri": "https://localhost:8080/"
        },
        "id": "fu3KVXglWcvG",
        "outputId": "9d80082d-344d-48cf-8be4-2b268759f342"
      },
      "source": [
        "a = np.array([10,20,30,40,50,60,70])\n",
        "b = a > 50\n",
        "print(b)"
      ],
      "execution_count": 104,
      "outputs": [
        {
          "output_type": "stream",
          "text": [
            "[False False False False False  True  True]\n"
          ],
          "name": "stdout"
        }
      ]
    },
    {
      "cell_type": "code",
      "metadata": {
        "colab": {
          "base_uri": "https://localhost:8080/"
        },
        "id": "KmtjSvLjXjii",
        "outputId": "f1fecb82-7f48-49a9-9938-d05acbfc0c48"
      },
      "source": [
        "ary = np.random.random(5) # 0~1 사이의 무작위 수 5개 생성ry = np.random.random(5) # 0~1 사이의 무작위 수 5개 생성\n",
        "print(ary)\n",
        "print(np.all(ary >= 0.3)) # 모든 원소가 0.3보다 크냐?\n",
        "print(np.any(ary > 0.7)) # 0.7보다 큰 원소가 있냐?\n",
        "print(ary)\n",
        "print(np.all(ary >= 0.3)) # 모든 원소가 0.3보다 크냐?\n",
        "print(np.any(ary > 0.7)) # 0.7보다 큰 원소가 있냐?"
      ],
      "execution_count": 105,
      "outputs": [
        {
          "output_type": "stream",
          "text": [
            "[0.53699465 0.05976479 0.81775092 0.06239917 0.9011258 ]\n",
            "False\n",
            "True\n",
            "[0.53699465 0.05976479 0.81775092 0.06239917 0.9011258 ]\n",
            "False\n",
            "True\n"
          ],
          "name": "stdout"
        }
      ]
    },
    {
      "cell_type": "code",
      "metadata": {
        "colab": {
          "base_uri": "https://localhost:8080/"
        },
        "id": "gkzOuVJ8X_KK",
        "outputId": "d939857f-e87b-4821-aea2-5f9f3b5d4108"
      },
      "source": [
        "# 퀴즈 9.9\n",
        "height = np.array([173, 168, 171, 189, 179])\n",
        "weight = np.array([65.4, 59.2, 63.6, 88.4, 68.7])\n",
        "bmi = (weight/(height**2))*10000\n",
        "print(bmi)"
      ],
      "execution_count": 106,
      "outputs": [
        {
          "output_type": "stream",
          "text": [
            "[21.85171573 20.97505669 21.75028214 24.7473475  21.44127836]\n"
          ],
          "name": "stdout"
        }
      ]
    },
    {
      "cell_type": "code",
      "metadata": {
        "colab": {
          "base_uri": "https://localhost:8080/"
        },
        "id": "QVc7RyTsZi8z",
        "outputId": "ad542352-de6d-43ad-bb29-1667850a6edf"
      },
      "source": [
        "# 퀴즈 9.10\n",
        "print(bmi>21)"
      ],
      "execution_count": 107,
      "outputs": [
        {
          "output_type": "stream",
          "text": [
            "[ True False  True  True  True]\n"
          ],
          "name": "stdout"
        }
      ]
    },
    {
      "cell_type": "code",
      "metadata": {
        "colab": {
          "base_uri": "https://localhost:8080/"
        },
        "id": "xxkN7vW0aj1L",
        "outputId": "a5412e1c-61db-4071-d1f1-fea5b945546f"
      },
      "source": [
        "np.linspace(0, 12, 4) # 0과 12를 포함한 4 간격의 값들"
      ],
      "execution_count": 108,
      "outputs": [
        {
          "output_type": "execute_result",
          "data": {
            "text/plain": [
              "array([ 0.,  4.,  8., 12.])"
            ]
          },
          "metadata": {
            "tags": []
          },
          "execution_count": 108
        }
      ]
    },
    {
      "cell_type": "code",
      "metadata": {
        "colab": {
          "base_uri": "https://localhost:8080/"
        },
        "id": "RxiHoGi_a67l",
        "outputId": "331e2b59-1f79-458e-841d-233d73c404f1"
      },
      "source": [
        "np.linspace(0, 12, 4, retstep=True) # 마지막에 간격도 출력"
      ],
      "execution_count": 109,
      "outputs": [
        {
          "output_type": "execute_result",
          "data": {
            "text/plain": [
              "(array([ 0.,  4.,  8., 12.]), 4.0)"
            ]
          },
          "metadata": {
            "tags": []
          },
          "execution_count": 109
        }
      ]
    },
    {
      "cell_type": "code",
      "metadata": {
        "colab": {
          "base_uri": "https://localhost:8080/"
        },
        "id": "mp3aGAjda9cC",
        "outputId": "95067cb1-5f2b-45a4-92eb-dc2786bf42d2"
      },
      "source": [
        "np.linspace(0, 12, 4, endpoint=False) # 0부터 12 전까지 4개의 등간격으로 값 얻어냄"
      ],
      "execution_count": 110,
      "outputs": [
        {
          "output_type": "execute_result",
          "data": {
            "text/plain": [
              "array([0., 3., 6., 9.])"
            ]
          },
          "metadata": {
            "tags": []
          },
          "execution_count": 110
        }
      ]
    },
    {
      "cell_type": "code",
      "metadata": {
        "colab": {
          "base_uri": "https://localhost:8080/"
        },
        "id": "ZFTbLNjfbTRD",
        "outputId": "30b67043-3268-441f-b5ab-ec32b4264f6d"
      },
      "source": [
        "np.logspace(np.log10(10), np.log10(100), 5) # 1~10 사이의 5개의 로그 값의 간격으로 원소를 구성성서"
      ],
      "execution_count": 111,
      "outputs": [
        {
          "output_type": "execute_result",
          "data": {
            "text/plain": [
              "array([ 10.        ,  17.7827941 ,  31.6227766 ,  56.23413252,\n",
              "       100.        ])"
            ]
          },
          "metadata": {
            "tags": []
          },
          "execution_count": 111
        }
      ]
    },
    {
      "cell_type": "code",
      "metadata": {
        "colab": {
          "base_uri": "https://localhost:8080/"
        },
        "id": "7l5v0UyJbhoC",
        "outputId": "aa1f95ac-bd22-44e6-8b28-8274876f1d24"
      },
      "source": [
        "np.logspace(1,2,5) # log10(n)의 값을 알고 있을 때"
      ],
      "execution_count": 112,
      "outputs": [
        {
          "output_type": "execute_result",
          "data": {
            "text/plain": [
              "array([ 10.        ,  17.7827941 ,  31.6227766 ,  56.23413252,\n",
              "       100.        ])"
            ]
          },
          "metadata": {
            "tags": []
          },
          "execution_count": 112
        }
      ]
    }
  ]
}